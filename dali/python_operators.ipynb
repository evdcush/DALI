{
 "cells": [
  {
   "cell_type": "markdown",
   "metadata": {},
   "source": [
    "# Python Operators\n",
    "This example shows how to run custom Python code using a family of DALI `PythonFunction` Operators to **prototype new augmentations** or **debug the Pipeline**. The idea behind these Operators is to provide a capability to execute Python code operating on DALI tensors' data within the pipeline execution.\n",
    "\n",
    "Reference: https://docs.nvidia.com/deeplearning/dali/user-guide/docs/examples/custom_operations/python_operator.html\n",
    "\n",
    "\n",
    "## Defining  an operation\n",
    "The first kind of Operator we will try is `PythonFunction`. It wraps a regular Python function and runs it inside a DALI Pipeline. \n",
    "\n",
    "Let us define such a function as an example. We will name it `edit_images`."
   ]
  },
  {
   "cell_type": "code",
   "execution_count": 1,
   "metadata": {},
   "outputs": [],
   "source": [
    "%matplotlib inline\n",
    "import numpy as np\n",
    "import matplotlib.pyplot as plt\n",
    "from matplotlib import gridspec, cm\n",
    "\n",
    "from nvidia.dali import ops, types\n",
    "from nvidia.dali.pipeline import Pipeline"
   ]
  },
  {
   "cell_type": "code",
   "execution_count": null,
   "metadata": {},
   "outputs": [],
   "source": []
  }
 ],
 "metadata": {
  "kernelspec": {
   "display_name": "Python 3",
   "language": "python",
   "name": "python3"
  },
  "language_info": {
   "codemirror_mode": {
    "name": "ipython",
    "version": 3
   },
   "file_extension": ".py",
   "mimetype": "text/x-python",
   "name": "python",
   "nbconvert_exporter": "python",
   "pygments_lexer": "ipython3",
   "version": "3.8.5"
  },
  "toc": {
   "base_numbering": 1,
   "nav_menu": {},
   "number_sections": false,
   "sideBar": true,
   "skip_h1_title": false,
   "title_cell": "Contents",
   "title_sidebar": "Contents",
   "toc_cell": false,
   "toc_position": {},
   "toc_section_display": true,
   "toc_window_display": false
  }
 },
 "nbformat": 4,
 "nbformat_minor": 4
}
