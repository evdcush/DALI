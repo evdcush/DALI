{
 "cells": [
  {
   "cell_type": "markdown",
   "metadata": {},
   "source": [
    "# Data loading with ExternalSource operator\n",
    "In this notebook, we will see how to use the `ExternalSource` operator, which allows us to use an external data source as input to the Pipeline."
   ]
  },
  {
   "cell_type": "code",
   "execution_count": 1,
   "metadata": {},
   "outputs": [],
   "source": [
    "import collections\n",
    "import numpy as np\n",
    "from random import shuffle\n",
    "from nvidia.dali.pipeline import Pipeline\n",
    "from nvidia.dali import ops, types\n",
    "\n",
    "batch_size = 16"
   ]
  },
  {
   "cell_type": "markdown",
   "metadata": {},
   "source": [
    "## Defining the data source\n",
    "We use an infinite iterator as a data source, on the sample dogs & cats images."
   ]
  },
  {
   "cell_type": "code",
   "execution_count": 2,
   "metadata": {},
   "outputs": [],
   "source": [
    "class ExternalInputIterator:\n",
    "    def __init__(self, batch_size):\n",
    "        self.images_dir = 'data/images/'\n",
    "        self.batch_size = batch_size\n",
    "        with open(self.images_dir + 'file_list.txt') as file:\n",
    "            self.files = [line.rstrip() for line in file if line]\n",
    "        shuffle(self.files)\n",
    "    \n",
    "    def __iter__(self):\n",
    "        \"\"\" (this is not typical __iter__ ?) \"\"\"\n",
    "        self.i = 0\n",
    "        self.n = len(self.files)\n",
    "        return self\n",
    "    \n",
    "    def __next__(self):\n",
    "        batch  = []\n",
    "        labels = []\n",
    "        for _ in range(self.batch_size):\n",
    "            jpg_fname, label = self.files[self.i].split(' ')\n",
    "            file = open(self.images_dir + jpg_fname, 'rb')\n",
    "            batch.append(np.frombuffer(f.read(), dtype=np.uint8))\n",
    "            labels.append(np.array([label], dtype=np.uint8))\n",
    "            self.i = (self.i + 1) % self.n\n",
    "        return batch, labels"
   ]
  },
  {
   "cell_type": "markdown",
   "metadata": {},
   "source": [
    "# Defining the pipeline\n",
    "The next step is to define the Pipeline.\n",
    "\n",
    "The `ExternalSource` op accepts an iterable or a callable. If the source provides multiple outputs (eg images and labels), that number must also be specified as `num_outputs` argument.\n",
    "\n",
    "Internally, the pipeline will call `source` (if callable) or run `next(source)`(if iterable) whenever more data is needed to keep the pipeline running."
   ]
  },
  {
   "cell_type": "code",
   "execution_count": 3,
   "metadata": {},
   "outputs": [],
   "source": [
    "external_input_iter = ExternalInputIterator(batch_size)"
   ]
  },
  {
   "cell_type": "code",
   "execution_count": 4,
   "metadata": {},
   "outputs": [],
   "source": [
    "class ExternalSourcePipeline(Pipeline):\n",
    "    def __init__(self, batch_size, ext_inp_iter, \n",
    "                 num_threads, device_id):\n",
    "        super().__init__(batch_size, num_threads, device_id, seed=12)\n",
    "        self.source  = ops.ExternalSource(source=ext_inp_iter, num_outputs=2)\n",
    "        self.decode  = ops.ImageDecoder(device='mixed', output_type=types.RGB)\n",
    "        self.enhance = ops.BrightnessContrast(device='gpu', contrast=2)\n",
    "        \n",
    "    def define_graph(self):\n",
    "        jpgs, labels = self.source()\n",
    "        images = self.decode(jpgs)\n",
    "        output = self.enhance(images)\n",
    "        return output, labels"
   ]
  },
  {
   "cell_type": "code",
   "execution_count": null,
   "metadata": {},
   "outputs": [],
   "source": []
  },
  {
   "cell_type": "code",
   "execution_count": null,
   "metadata": {},
   "outputs": [],
   "source": []
  },
  {
   "cell_type": "code",
   "execution_count": null,
   "metadata": {},
   "outputs": [],
   "source": []
  },
  {
   "cell_type": "code",
   "execution_count": null,
   "metadata": {},
   "outputs": [],
   "source": []
  },
  {
   "cell_type": "code",
   "execution_count": null,
   "metadata": {},
   "outputs": [],
   "source": []
  },
  {
   "cell_type": "code",
   "execution_count": null,
   "metadata": {},
   "outputs": [],
   "source": []
  }
 ],
 "metadata": {
  "kernelspec": {
   "display_name": "Python 3.8.3 64-bit ('383': venv)",
   "language": "python",
   "name": "python38364bit383venv8a2518ca6d53400ab5425acdffad8b7d"
  },
  "language_info": {
   "codemirror_mode": {
    "name": "ipython",
    "version": 3
   },
   "file_extension": ".py",
   "mimetype": "text/x-python",
   "name": "python",
   "nbconvert_exporter": "python",
   "pygments_lexer": "ipython3",
   "version": "3.8.3"
  }
 },
 "nbformat": 4,
 "nbformat_minor": 4
}
